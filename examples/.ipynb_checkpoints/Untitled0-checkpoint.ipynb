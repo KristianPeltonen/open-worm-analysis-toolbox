{
 "metadata": {
  "name": "",
  "signature": "sha256:5b6468453b59dca30f4217de574db4b24ccb43d06911362232756d64719898ac"
 },
 "nbformat": 3,
 "nbformat_minor": 0,
 "worksheets": []
}